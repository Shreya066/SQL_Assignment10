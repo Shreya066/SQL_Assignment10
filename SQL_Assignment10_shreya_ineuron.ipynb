{
 "cells": [
  {
   "cell_type": "markdown",
   "id": "a093b7ea",
   "metadata": {},
   "source": [
    "**Q1. Write an SQL query to determine the 5th highest salary without using TOP or limit method.**"
   ]
  },
  {
   "cell_type": "markdown",
   "id": "a103cfa6",
   "metadata": {},
   "source": [
    "select name, salary from employeess as emp1 where 5-1 = (select count(distinct salary) from employeess as emp2 where emp2.salary > emp1.salary);"
   ]
  },
  {
   "cell_type": "markdown",
   "id": "1f1abb1d",
   "metadata": {},
   "source": [
    "**Q2. Write an SQL query to fetch the list of employees with the same salary.**"
   ]
  },
  {
   "cell_type": "markdown",
   "id": "2627a360",
   "metadata": {},
   "source": [
    "select salary, group_concat(name seprator ',') from employee group by salary"
   ]
  }
 ],
 "metadata": {
  "kernelspec": {
   "display_name": "Python 3 (ipykernel)",
   "language": "python",
   "name": "python3"
  },
  "language_info": {
   "codemirror_mode": {
    "name": "ipython",
    "version": 3
   },
   "file_extension": ".py",
   "mimetype": "text/x-python",
   "name": "python",
   "nbconvert_exporter": "python",
   "pygments_lexer": "ipython3",
   "version": "3.9.7"
  }
 },
 "nbformat": 4,
 "nbformat_minor": 5
}
